{
 "cells": [
  {
   "cell_type": "markdown",
   "metadata": {},
   "source": [
    "# Projet integre:SALAIRES \n"
   ]
  },
  {
   "cell_type": "markdown",
   "metadata": {},
   "source": [
    "Nous avons commencé par la création d’une base de données qui présente les salaires annuels des employés dans une entreprise \n",
    "spécialisée dans la fabrication des vêtements .\n",
    "En effet, on a organisé la base de données comme cela:\n",
    "On a accordé un ID à chacun des employés et on a noté la ville dans laquelle il habite, le département dans lequel il travaille\n",
    "et le salaire annuel qui lui est attribué.  \n",
    "Puis on s'est mis à faire des études sur cette entreprise."
   ]
  },
  {
   "cell_type": "code",
   "execution_count": 19,
   "metadata": {},
   "outputs": [],
   "source": [
    "import matplotlib.pyplot as plt\n",
    "import pandas as pd\n",
    "import numpy as np\n",
    "import seaborn as sns"
   ]
  },
  {
   "cell_type": "markdown",
   "metadata": {},
   "source": [
    "On a commencé par l'affichage de la base de données en utilisant pd.read_csv :\n",
    "\n"
   ]
  },
  {
   "cell_type": "markdown",
   "metadata": {},
   "source": [
    "Le paramètre 'sep=','' est utilisé pour réaliser la séparation entre les arguments de la base."
   ]
  },
  {
   "cell_type": "markdown",
   "metadata": {},
   "source": [
    "Le paramètre header = 0 est utlise pour afficher les noms des colonnes dans la première ligne du fichier."
   ]
  },
  {
   "cell_type": "code",
   "execution_count": 4,
   "metadata": {},
   "outputs": [
    {
     "data": {
      "text/html": [
       "<div>\n",
       "<style scoped>\n",
       "    .dataframe tbody tr th:only-of-type {\n",
       "        vertical-align: middle;\n",
       "    }\n",
       "\n",
       "    .dataframe tbody tr th {\n",
       "        vertical-align: top;\n",
       "    }\n",
       "\n",
       "    .dataframe thead th {\n",
       "        text-align: right;\n",
       "    }\n",
       "</style>\n",
       "<table border=\"1\" class=\"dataframe\">\n",
       "  <thead>\n",
       "    <tr style=\"text-align: right;\">\n",
       "      <th></th>\n",
       "      <th>ID</th>\n",
       "      <th>Name</th>\n",
       "      <th>Town</th>\n",
       "      <th>Department</th>\n",
       "      <th>Annual Salary(Brut)</th>\n",
       "    </tr>\n",
       "  </thead>\n",
       "  <tbody>\n",
       "    <tr>\n",
       "      <th>0</th>\n",
       "      <td>100</td>\n",
       "      <td>Aaron Randolph</td>\n",
       "      <td>Sousse</td>\n",
       "      <td>Quality control</td>\n",
       "      <td>5529.588</td>\n",
       "    </tr>\n",
       "    <tr>\n",
       "      <th>1</th>\n",
       "      <td>173</td>\n",
       "      <td>Aastha Amaker</td>\n",
       "      <td>Monastir</td>\n",
       "      <td>Cutting</td>\n",
       "      <td>4834.896</td>\n",
       "    </tr>\n",
       "    <tr>\n",
       "      <th>2</th>\n",
       "      <td>365</td>\n",
       "      <td>Aastha Seaford</td>\n",
       "      <td>Tunis</td>\n",
       "      <td>Cutting</td>\n",
       "      <td>5588.556</td>\n",
       "    </tr>\n",
       "    <tr>\n",
       "      <th>3</th>\n",
       "      <td>762</td>\n",
       "      <td>Abbie Burgoyne</td>\n",
       "      <td>Sfax</td>\n",
       "      <td>Confection</td>\n",
       "      <td>4393.800</td>\n",
       "    </tr>\n",
       "    <tr>\n",
       "      <th>4</th>\n",
       "      <td>802</td>\n",
       "      <td>Abby Gliston</td>\n",
       "      <td>Ariana</td>\n",
       "      <td>Confection</td>\n",
       "      <td>10636.824</td>\n",
       "    </tr>\n",
       "    <tr>\n",
       "      <th>...</th>\n",
       "      <td>...</td>\n",
       "      <td>...</td>\n",
       "      <td>...</td>\n",
       "      <td>...</td>\n",
       "      <td>...</td>\n",
       "    </tr>\n",
       "    <tr>\n",
       "      <th>390</th>\n",
       "      <td>800</td>\n",
       "      <td>Yesenia Lindsey</td>\n",
       "      <td>Gabes</td>\n",
       "      <td>Confection</td>\n",
       "      <td>5583.072</td>\n",
       "    </tr>\n",
       "    <tr>\n",
       "      <th>391</th>\n",
       "      <td>310</td>\n",
       "      <td>Zariah Hindon</td>\n",
       "      <td>Sousse</td>\n",
       "      <td>Quality control</td>\n",
       "      <td>5483.436</td>\n",
       "    </tr>\n",
       "    <tr>\n",
       "      <th>392</th>\n",
       "      <td>266</td>\n",
       "      <td>Zeke Barnard</td>\n",
       "      <td>Tunis</td>\n",
       "      <td>Quality control</td>\n",
       "      <td>3668.952</td>\n",
       "    </tr>\n",
       "    <tr>\n",
       "      <th>393</th>\n",
       "      <td>332</td>\n",
       "      <td>Zion Alvin</td>\n",
       "      <td>Sfax</td>\n",
       "      <td>Quality control</td>\n",
       "      <td>5257.512</td>\n",
       "    </tr>\n",
       "    <tr>\n",
       "      <th>394</th>\n",
       "      <td>484</td>\n",
       "      <td>Zipporah Duppa</td>\n",
       "      <td>Sousse</td>\n",
       "      <td>Quality control</td>\n",
       "      <td>5344.488</td>\n",
       "    </tr>\n",
       "  </tbody>\n",
       "</table>\n",
       "<p>395 rows × 5 columns</p>\n",
       "</div>"
      ],
      "text/plain": [
       "      ID             Name      Town       Department  Annual Salary(Brut)\n",
       "0    100   Aaron Randolph    Sousse  Quality control             5529.588\n",
       "1    173    Aastha Amaker  Monastir          Cutting             4834.896\n",
       "2    365   Aastha Seaford     Tunis          Cutting             5588.556\n",
       "3    762   Abbie Burgoyne      Sfax       Confection             4393.800\n",
       "4    802     Abby Gliston    Ariana       Confection            10636.824\n",
       "..   ...              ...       ...              ...                  ...\n",
       "390  800  Yesenia Lindsey     Gabes       Confection             5583.072\n",
       "391  310    Zariah Hindon    Sousse  Quality control             5483.436\n",
       "392  266     Zeke Barnard     Tunis  Quality control             3668.952\n",
       "393  332       Zion Alvin      Sfax  Quality control             5257.512\n",
       "394  484   Zipporah Duppa    Sousse  Quality control             5344.488\n",
       "\n",
       "[395 rows x 5 columns]"
      ]
     },
     "execution_count": 4,
     "metadata": {},
     "output_type": "execute_result"
    }
   ],
   "source": [
    "Data = pd.read_csv(\"C:/Users/Rania/Desktop/Data.csv\",sep=',',header = 0)\n",
    "Data"
   ]
  },
  {
   "cell_type": "markdown",
   "metadata": {},
   "source": [
    "On a utilisé la fonction '.shape' qui a renvoyé un tuple représentant les dimensions du data Frame. "
   ]
  },
  {
   "cell_type": "code",
   "execution_count": 5,
   "metadata": {},
   "outputs": [
    {
     "data": {
      "text/plain": [
       "(395, 5)"
      ]
     },
     "execution_count": 5,
     "metadata": {},
     "output_type": "execute_result"
    }
   ],
   "source": [
    "Data.shape"
   ]
  },
  {
   "cell_type": "markdown",
   "metadata": {},
   "source": [
    "Et la fonction '.columns' qui a renvoyé les étiquettes des colonnes ."
   ]
  },
  {
   "cell_type": "code",
   "execution_count": 6,
   "metadata": {},
   "outputs": [
    {
     "data": {
      "text/plain": [
       "Index(['ID', 'Name', 'Town', 'Department', 'Annual Salary(Brut)'], dtype='object')"
      ]
     },
     "execution_count": 6,
     "metadata": {},
     "output_type": "execute_result"
    }
   ],
   "source": [
    "Data.columns"
   ]
  },
  {
   "cell_type": "markdown",
   "metadata": {},
   "source": [
    "'.reindex' qui a modifié les étiquettes des colonnes du notre DataFrame."
   ]
  },
  {
   "cell_type": "code",
   "execution_count": 7,
   "metadata": {},
   "outputs": [
    {
     "data": {
      "text/html": [
       "<div>\n",
       "<style scoped>\n",
       "    .dataframe tbody tr th:only-of-type {\n",
       "        vertical-align: middle;\n",
       "    }\n",
       "\n",
       "    .dataframe tbody tr th {\n",
       "        vertical-align: top;\n",
       "    }\n",
       "\n",
       "    .dataframe thead th {\n",
       "        text-align: right;\n",
       "    }\n",
       "</style>\n",
       "<table border=\"1\" class=\"dataframe\">\n",
       "  <thead>\n",
       "    <tr style=\"text-align: right;\">\n",
       "      <th></th>\n",
       "      <th>Name</th>\n",
       "      <th>ID</th>\n",
       "      <th>Town</th>\n",
       "      <th>Department</th>\n",
       "      <th>Annual Salary(Brut)</th>\n",
       "    </tr>\n",
       "  </thead>\n",
       "  <tbody>\n",
       "    <tr>\n",
       "      <th>0</th>\n",
       "      <td>Aaron Randolph</td>\n",
       "      <td>100</td>\n",
       "      <td>Sousse</td>\n",
       "      <td>Quality control</td>\n",
       "      <td>5529.588</td>\n",
       "    </tr>\n",
       "    <tr>\n",
       "      <th>1</th>\n",
       "      <td>Aastha Amaker</td>\n",
       "      <td>173</td>\n",
       "      <td>Monastir</td>\n",
       "      <td>Cutting</td>\n",
       "      <td>4834.896</td>\n",
       "    </tr>\n",
       "    <tr>\n",
       "      <th>2</th>\n",
       "      <td>Aastha Seaford</td>\n",
       "      <td>365</td>\n",
       "      <td>Tunis</td>\n",
       "      <td>Cutting</td>\n",
       "      <td>5588.556</td>\n",
       "    </tr>\n",
       "    <tr>\n",
       "      <th>3</th>\n",
       "      <td>Abbie Burgoyne</td>\n",
       "      <td>762</td>\n",
       "      <td>Sfax</td>\n",
       "      <td>Confection</td>\n",
       "      <td>4393.800</td>\n",
       "    </tr>\n",
       "    <tr>\n",
       "      <th>4</th>\n",
       "      <td>Abby Gliston</td>\n",
       "      <td>802</td>\n",
       "      <td>Ariana</td>\n",
       "      <td>Confection</td>\n",
       "      <td>10636.824</td>\n",
       "    </tr>\n",
       "    <tr>\n",
       "      <th>...</th>\n",
       "      <td>...</td>\n",
       "      <td>...</td>\n",
       "      <td>...</td>\n",
       "      <td>...</td>\n",
       "      <td>...</td>\n",
       "    </tr>\n",
       "    <tr>\n",
       "      <th>390</th>\n",
       "      <td>Yesenia Lindsey</td>\n",
       "      <td>800</td>\n",
       "      <td>Gabes</td>\n",
       "      <td>Confection</td>\n",
       "      <td>5583.072</td>\n",
       "    </tr>\n",
       "    <tr>\n",
       "      <th>391</th>\n",
       "      <td>Zariah Hindon</td>\n",
       "      <td>310</td>\n",
       "      <td>Sousse</td>\n",
       "      <td>Quality control</td>\n",
       "      <td>5483.436</td>\n",
       "    </tr>\n",
       "    <tr>\n",
       "      <th>392</th>\n",
       "      <td>Zeke Barnard</td>\n",
       "      <td>266</td>\n",
       "      <td>Tunis</td>\n",
       "      <td>Quality control</td>\n",
       "      <td>3668.952</td>\n",
       "    </tr>\n",
       "    <tr>\n",
       "      <th>393</th>\n",
       "      <td>Zion Alvin</td>\n",
       "      <td>332</td>\n",
       "      <td>Sfax</td>\n",
       "      <td>Quality control</td>\n",
       "      <td>5257.512</td>\n",
       "    </tr>\n",
       "    <tr>\n",
       "      <th>394</th>\n",
       "      <td>Zipporah Duppa</td>\n",
       "      <td>484</td>\n",
       "      <td>Sousse</td>\n",
       "      <td>Quality control</td>\n",
       "      <td>5344.488</td>\n",
       "    </tr>\n",
       "  </tbody>\n",
       "</table>\n",
       "<p>395 rows × 5 columns</p>\n",
       "</div>"
      ],
      "text/plain": [
       "                Name   ID      Town       Department  Annual Salary(Brut)\n",
       "0     Aaron Randolph  100    Sousse  Quality control             5529.588\n",
       "1      Aastha Amaker  173  Monastir          Cutting             4834.896\n",
       "2     Aastha Seaford  365     Tunis          Cutting             5588.556\n",
       "3     Abbie Burgoyne  762      Sfax       Confection             4393.800\n",
       "4       Abby Gliston  802    Ariana       Confection            10636.824\n",
       "..               ...  ...       ...              ...                  ...\n",
       "390  Yesenia Lindsey  800     Gabes       Confection             5583.072\n",
       "391    Zariah Hindon  310    Sousse  Quality control             5483.436\n",
       "392     Zeke Barnard  266     Tunis  Quality control             3668.952\n",
       "393       Zion Alvin  332      Sfax  Quality control             5257.512\n",
       "394   Zipporah Duppa  484    Sousse  Quality control             5344.488\n",
       "\n",
       "[395 rows x 5 columns]"
      ]
     },
     "execution_count": 7,
     "metadata": {},
     "output_type": "execute_result"
    }
   ],
   "source": [
    "Data.reindex(columns=['Name','ID','Town','Department','Annual Salary(Brut)'])"
   ]
  },
  {
   "cell_type": "code",
   "execution_count": 8,
   "metadata": {},
   "outputs": [],
   "source": [
    "Data = Data.set_index('Name')"
   ]
  },
  {
   "cell_type": "markdown",
   "metadata": {},
   "source": [
    "On a definit la fonction 'Pie_par' \"department\" ou \"town\" pour visualiser un tableau contenant le nombre des employées par \n",
    "départment et un graph représentant la répartition entre ces département \n",
    "\n",
    "\n",
    "aussi on a pensé à l'utilisateur , maintenant il peut écrire \"department\" ou \"town\" comme il veut (majuscule ou miniscule) est s'il a tapé le mot incorrecte on l'aide à l'écrire correctement"
   ]
  },
  {
   "cell_type": "code",
   "execution_count": 9,
   "metadata": {},
   "outputs": [],
   "source": [
    "def Pie_par(t):\n",
    "    if 'department' in t.lower():\n",
    "        print(Data['Department'].value_counts())\n",
    "        print('___________________________________________________________________________________________________________')\n",
    "        print(Data['Department'].value_counts().plot.pie())\n",
    "        print('___________________________________________________________________________________________________________')\n",
    "    elif 'town' in t.lower():\n",
    "        print(Data['Town'].value_counts())\n",
    "        print('___________________________________________________________________________________________________________')\n",
    "        print(Data['Town'].value_counts().plot.pie())\n",
    "        print('___________________________________________________________________________________________________________')\n",
    "    else :\n",
    "        print(\"il y a que (departmet) et (town)\") "
   ]
  },
  {
   "cell_type": "code",
   "execution_count": 10,
   "metadata": {},
   "outputs": [
    {
     "name": "stdout",
     "output_type": "stream",
     "text": [
      "Confection         186\n",
      "Quality control    109\n",
      "Cutting            100\n",
      "Name: Department, dtype: int64\n",
      "___________________________________________________________________________________________________________\n",
      "AxesSubplot(0.260833,0.125;0.503333x0.755)\n",
      "___________________________________________________________________________________________________________\n"
     ]
    },
    {
     "data": {
      "image/png": "[encoded data removed]",
      "text/plain": [
       "<Figure size 432x288 with 1 Axes>"
      ]
     },
     "metadata": {},
     "output_type": "display_data"
    }
   ],
   "source": [
    "Pie_par('Department')"
   ]
  },
  {
   "cell_type": "markdown",
   "metadata": {},
   "source": [
    "Pour mieux décrire la répartition des salaires annuels dans l'entreprise on a appliqué la fonction \n",
    "describe qui a compté le nombre des employés, a calculé la moyenne des salaires, a mesuré \n",
    "l'ecarttype ,la mediane (50%), la centile inferieure (25%), la centile superieure (75%) et finalement a \n",
    "donné le minimum et le maximum des profits. "
   ]
  },
  {
   "cell_type": "code",
   "execution_count": 11,
   "metadata": {},
   "outputs": [
    {
     "name": "stdout",
     "output_type": "stream",
     "text": [
      "la description du salaire dans l'entreprise\n"
     ]
    },
    {
     "data": {
      "text/plain": [
       "count      395.000000\n",
       "mean      5755.406063\n",
       "std       3189.887550\n",
       "min        243.720000\n",
       "25%       4862.022000\n",
       "50%       5448.804000\n",
       "75%       5789.064000\n",
       "max      28811.916000\n",
       "Name: Annual Salary(Brut), dtype: float64"
      ]
     },
     "execution_count": 11,
     "metadata": {},
     "output_type": "execute_result"
    }
   ],
   "source": [
    "print(\"la description du salaire dans l'entreprise\")\n",
    "Data['Annual Salary(Brut)'].describe()"
   ]
  },
  {
   "cell_type": "markdown",
   "metadata": {},
   "source": [
    "On a realisé une fonction intitulée \"Ecrire_Nom_Departement\" qui, en lui donnant le nom du departement, elle affiche la moyenne des salaires des employés, le maximum, le minimum et la mediane.\n",
    "Et si on introduit un nom de departement qui n'existe pas elle affiche \"le nom est incorrecte\"."
   ]
  },
  {
   "cell_type": "code",
   "execution_count": 12,
   "metadata": {},
   "outputs": [],
   "source": [
    "def Ecrire_Nom_Departement(x):\n",
    "    try:\n",
    "        print(\"-Salaire Moyen dans le departement\", x,\":\",Data.groupby('Department').get_group(x).mean())\n",
    "        print(\"-Salaire Maximum dans le departement\", x,\":\",Data.groupby('Department').get_group(x).max())\n",
    "        print(\"-Salaire Minimum dans le departement\", x,\":\",Data.groupby('Department').get_group(x).min())\n",
    "        print(\"-Salaire Median dans le departement\", x,\":\",Data.groupby('Department').get_group(x).median())\n",
    "    except:\n",
    "        print(\"le nom est incorrect\")"
   ]
  },
  {
   "cell_type": "markdown",
   "metadata": {},
   "source": [
    "Par exemple on a essayé avec le département « Confection ».\n",
    "La fonction a montré: \n",
    "\n",
    "    1- la moyenne des salaires des employés qui travaillent dans ce departement.  \n",
    "     \n",
    "    2- celui qui profite du salaire maximum et où il habite.\n",
    "    \n",
    "    3- celui qu’on a attribué le minimum des salaires et où il habite.\n",
    "    \n",
    "    4- la mediane des salaires."
   ]
  },
  {
   "cell_type": "code",
   "execution_count": 13,
   "metadata": {},
   "outputs": [
    {
     "name": "stdout",
     "output_type": "stream",
     "text": [
      "-Salaire Moyen dans le departement Confection : ID                      533.838710\n",
      "Annual Salary(Brut)    5708.649866\n",
      "dtype: float64\n",
      "-Salaire Maximum dans le departement Confection : ID                            999\n",
      "Town                         Sfax\n",
      "Department             Confection\n",
      "Annual Salary(Brut)       28811.9\n",
      "dtype: object\n",
      "-Salaire Minimum dans le departement Confection : ID                            100\n",
      "Town                       Ariana\n",
      "Department             Confection\n",
      "Annual Salary(Brut)       437.603\n",
      "dtype: object\n",
      "-Salaire Median dans le departement Confection : ID                      543.000\n",
      "Annual Salary(Brut)    5448.582\n",
      "dtype: float64\n"
     ]
    }
   ],
   "source": [
    "Ecrire_Nom_Departement(\"Confection\")"
   ]
  },
  {
   "cell_type": "markdown",
   "metadata": {},
   "source": [
    "On a réflechit ensuite à créer une fonction qui s'appelle \"Différence_Entre_Département\" qui, en fait, donne la différence entre\n",
    "la répartition des profits dans les trois départements .\n",
    "Et on peut également choisir faire cette répartition selon la moyenne, la\n",
    "somme ,le maximum ou le minimum des paiements."
   ]
  },
  {
   "cell_type": "code",
   "execution_count": 14,
   "metadata": {},
   "outputs": [],
   "source": [
    "def Différence_Entre_Département(x):\n",
    "    if \"mean\" in x.lower():\n",
    "        print(Data[[\"Annual Salary(Brut)\",\"Department\"]].groupby(\"Department\").mean())\n",
    "    elif 'sum' in x.lower():\n",
    "        print(Data[[\"Annual Salary(Brut)\",\"Department\"]].groupby(\"Department\").sum())\n",
    "    elif \"max\" in x.lower():\n",
    "        print(Data[[\"Annual Salary(Brut)\",\"Department\"]].groupby(\"Department\").max())\n",
    "    elif \"min\" in x.lower():\n",
    "        print(Data[[\"Annual Salary(Brut)\",\"Department\"]].groupby(\"Department\").min())"
   ]
  },
  {
   "cell_type": "markdown",
   "metadata": {},
   "source": [
    "On a fait l'exemple selon la moyenne des salaires annuels dans chaque departement."
   ]
  },
  {
   "cell_type": "code",
   "execution_count": 15,
   "metadata": {},
   "outputs": [
    {
     "name": "stdout",
     "output_type": "stream",
     "text": [
      "                 Annual Salary(Brut)\n",
      "Department                          \n",
      "Confection               5708.649866\n",
      "Cutting                  5630.082480\n",
      "Quality control          5950.167633\n"
     ]
    }
   ],
   "source": [
    "Différence_Entre_Département(\"mean\")"
   ]
  },
  {
   "cell_type": "markdown",
   "metadata": {},
   "source": [
    "On s'interesse maintenant à dessiner les courbes pour comprendre le budget de l'entreprise.\n",
    "On a determiné une fonction 'Histogram_par' qui lorsqu'on lui introduit un departement ou une ville elle affiche la disposition des salaires annuels regroupés par le parametre entré."
   ]
  },
  {
   "cell_type": "code",
   "execution_count": 16,
   "metadata": {},
   "outputs": [],
   "source": [
    "def Histogram_par(c):\n",
    "    if c=='Department':\n",
    "        Data.hist(column='Annual Salary(Brut)',by='Department')\n",
    "    elif c=='Town':\n",
    "        Data.hist(column='Annual Salary(Brut)',by='Town')"
   ]
  },
  {
   "cell_type": "markdown",
   "metadata": {},
   "source": [
    "Cet histogramme a pour profit de donner une idée claire sur la repartition des paiements dans chacun des \"Confection\",\"Cutting\"\n",
    "et \"Quality Control\""
   ]
  },
  {
   "cell_type": "code",
   "execution_count": 17,
   "metadata": {},
   "outputs": [
    {
     "data": {
      "image/png": "[encoded data removed]",
      "text/plain": [
       "<Figure size 432x288 with 4 Axes>"
      ]
     },
     "metadata": {
      "needs_background": "light"
     },
     "output_type": "display_data"
    }
   ],
   "source": [
    "Histogram_par('Department')"
   ]
  },
  {
   "cell_type": "markdown",
   "metadata": {},
   "source": [
    "'boxplot' est la fonction qu'on a definit par prendre \"Department\" comme axe des abscissesou bien \"Town\" et \"Annual Salary\" comme axe des ordonnées et qui va afficher la concentration des salaires par departements et aussi par villes ."
   ]
  },
  {
   "cell_type": "code",
   "execution_count": 21,
   "metadata": {},
   "outputs": [
    {
     "data": {
      "text/plain": [
       "<matplotlib.axes._subplots.AxesSubplot at 0xa1035b0>"
      ]
     },
     "execution_count": 21,
     "metadata": {},
     "output_type": "execute_result"
    },
    {
     "data": {
      "image/png": "[encoded data removed]",
      "text/plain": [
       "<Figure size 432x288 with 1 Axes>"
      ]
     },
     "metadata": {
      "needs_background": "light"
     },
     "output_type": "display_data"
    }
   ],
   "source": [
    "ax=sns.boxplot(x=\"Department\",y=\"Annual Salary(Brut)\",data=Data)\n",
    "ax"
   ]
  },
  {
   "cell_type": "code",
   "execution_count": 22,
   "metadata": {},
   "outputs": [
    {
     "data": {
      "text/plain": [
       "<matplotlib.axes._subplots.AxesSubplot at 0x92906a0>"
      ]
     },
     "execution_count": 22,
     "metadata": {},
     "output_type": "execute_result"
    },
    {
     "data": {
      "image/png": "[encoded data removed]",
      "text/plain": [
       "<Figure size 432x288 with 1 Axes>"
      ]
     },
     "metadata": {
      "needs_background": "light"
     },
     "output_type": "display_data"
    }
   ],
   "source": [
    "ax=sns.boxplot(x=\"Town\",y=\"Annual Salary(Brut)\",data=Data)\n",
    "ax"
   ]
  },
  {
   "cell_type": "markdown",
   "metadata": {},
   "source": [
    "Comme on a remarqué, les employés dans l'entreprise habitent dans des villes differentes donc on a reparti les salariés selon leurs residences et on a fait la somme de leurs profits."
   ]
  },
  {
   "cell_type": "code",
   "execution_count": 88,
   "metadata": {},
   "outputs": [],
   "source": [
    "def Difference_entre_villes(y):\n",
    "    if 'sum' in y.lower():\n",
    "        print(Data[[\"Town\",\"Annual Salary(Brut)\"]].groupby(\"Town\").sum())\n",
    "    elif 'mean' in y.lower():\n",
    "        print(Data[[\"Town\",\"Annual Salary(Brut)\"]].groupby(\"Town\").mean())"
   ]
  },
  {
   "cell_type": "code",
   "execution_count": 90,
   "metadata": {},
   "outputs": [
    {
     "name": "stdout",
     "output_type": "stream",
     "text": [
      "          Annual Salary(Brut)\n",
      "Town                         \n",
      "Ariana             204702.540\n",
      "Gabes              197541.156\n",
      "Kairouan            96398.496\n",
      "Mahdia             277446.144\n",
      "Manouba            218946.011\n",
      "Monastir           282650.940\n",
      "Nabeul             186674.580\n",
      "Sfax               274677.600\n",
      "Sousse             324904.812\n",
      "Tunis              209443.116\n"
     ]
    }
   ],
   "source": [
    "Difference_entre_villes('sum')"
   ]
  },
  {
   "cell_type": "markdown",
   "metadata": {},
   "source": [
    "Finalement, la fonction \"Ecirire_Nom\" est surement la plus usuelle. En effet, cette fonction aide a donner toutes les informations qu'on doit connaitre sur chaque employé de l'entreprise . En ecrivant juste son nom on peut savoir son ID,sa ville,son departement et son salaire. Et si personne dans l'entreprise ne porte le nom introduit un message \"N'existe pas dans la société\" s'affichera."
   ]
  },
  {
   "cell_type": "code",
   "execution_count": 140,
   "metadata": {},
   "outputs": [],
   "source": [
    "def Ecirire_Nom(x):\n",
    "    try :\n",
    "        print(x)\n",
    "        print(\"son Id =\",Data['ID'][x])\n",
    "        print(\"sa ville =\",Data['Town'][x])\n",
    "        print(\"son departement =\",Data['Department'][x])\n",
    "        print(\"son salaire =\",Data['Annual Salary(Brut)'][x])\n",
    "    except:\n",
    "        print(\"N'existe pas dans la société\")"
   ]
  },
  {
   "cell_type": "code",
   "execution_count": 141,
   "metadata": {},
   "outputs": [
    {
     "name": "stdout",
     "output_type": "stream",
     "text": [
      "Aastha Seaford\n",
      "son Id = 365\n",
      "sa ville = Tunis\n",
      "son departement = Cutting\n",
      "son salaire = 5588.556\n"
     ]
    }
   ],
   "source": [
    "Ecirire_Nom('Aastha Seaford')"
   ]
  },
  {
   "cell_type": "code",
   "execution_count": null,
   "metadata": {},
   "outputs": [],
   "source": []
  }
 ],
 "metadata": {
  "kernelspec": {
   "display_name": "Python 3",
   "language": "python",
   "name": "python3"
  },
  "language_info": {
   "codemirror_mode": {
    "name": "ipython",
    "version": 3
   },
   "file_extension": ".py",
   "mimetype": "text/x-python",
   "name": "python",
   "nbconvert_exporter": "python",
   "pygments_lexer": "ipython3",
   "version": "3.8.5"
  }
 },
 "nbformat": 4,
 "nbformat_minor": 4
}
